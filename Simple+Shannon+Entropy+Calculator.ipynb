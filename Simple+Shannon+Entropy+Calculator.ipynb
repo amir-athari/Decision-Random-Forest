{
 "cells": [
  {
   "cell_type": "markdown",
   "metadata": {},
   "source": [
    "# The simplest version of ID3 algorithm is used for classification of categorical datasets, that is, datasets that have non-numerical values. One key factor for using ID3 is to calculate Shannon Entropy. Below we build one using height data on group of boys and girls."
   ]
  },
  {
   "cell_type": "code",
   "execution_count": 1,
   "metadata": {
    "collapsed": true
   },
   "outputs": [],
   "source": [
    "import pandas as pd\n",
    "import numpy as np\n",
    "import scipy\n",
    "import matplotlib.pyplot as plt\n",
    "%matplotlib inline"
   ]
  },
  {
   "cell_type": "code",
   "execution_count": 2,
   "metadata": {
    "collapsed": true
   },
   "outputs": [],
   "source": [
    "import numpy as np\n",
    "import collections"
   ]
  },
  {
   "cell_type": "code",
   "execution_count": 28,
   "metadata": {
    "collapsed": true
   },
   "outputs": [],
   "source": [
    "# Assume we have 20 boys and girls. 12 boys (b) and 8 are girls(g)\n",
    "# What is the entropy if interested in categories of boys or girls. This is before applying any rule.\n",
    "data = ['b','b','b','b','b','b','b','b','b','b','b','b','g','g','g','g','g','g','g','g']"
   ]
  },
  {
   "cell_type": "code",
   "execution_count": 4,
   "metadata": {
    "collapsed": true
   },
   "outputs": [],
   "source": [
    "C = collections.Counter(data)"
   ]
  },
  {
   "cell_type": "code",
   "execution_count": 5,
   "metadata": {},
   "outputs": [
    {
     "data": {
      "text/plain": [
       "{'b': 12, 'g': 8}"
      ]
     },
     "execution_count": 5,
     "metadata": {},
     "output_type": "execute_result"
    }
   ],
   "source": [
    "dict(C)"
   ]
  },
  {
   "cell_type": "code",
   "execution_count": 6,
   "metadata": {},
   "outputs": [
    {
     "data": {
      "text/plain": [
       "dict_items([('b', 12), ('g', 8)])"
      ]
     },
     "execution_count": 6,
     "metadata": {},
     "output_type": "execute_result"
    }
   ],
   "source": [
    "dict.items(C)"
   ]
  },
  {
   "cell_type": "code",
   "execution_count": 7,
   "metadata": {
    "collapsed": true
   },
   "outputs": [],
   "source": [
    "l = list(C.values())"
   ]
  },
  {
   "cell_type": "code",
   "execution_count": 8,
   "metadata": {
    "collapsed": true
   },
   "outputs": [],
   "source": [
    "count = np.array(C.values()) "
   ]
  },
  {
   "cell_type": "code",
   "execution_count": 9,
   "metadata": {
    "collapsed": true
   },
   "outputs": [],
   "source": [
    "# Calcualte propbabilities as values of dictionary\n",
    "prob = {k: v / total for total in (sum(C.values()),) for k, v in C.items()}"
   ]
  },
  {
   "cell_type": "code",
   "execution_count": 10,
   "metadata": {},
   "outputs": [
    {
     "data": {
      "text/plain": [
       "{'b': 0.6, 'g': 0.4}"
      ]
     },
     "execution_count": 10,
     "metadata": {},
     "output_type": "execute_result"
    }
   ],
   "source": [
    "prob"
   ]
  },
  {
   "cell_type": "code",
   "execution_count": 12,
   "metadata": {
    "collapsed": true
   },
   "outputs": [],
   "source": [
    "# Convert dictionary probabilities values as list values\n",
    "L = list(map(float,prob.values()))"
   ]
  },
  {
   "cell_type": "code",
   "execution_count": 13,
   "metadata": {
    "collapsed": true
   },
   "outputs": [],
   "source": [
    "# Calculate log base 2 of probabilities\n",
    "from math import log\n",
    "L_log2 = [log(x,2) for x in L]"
   ]
  },
  {
   "cell_type": "code",
   "execution_count": 14,
   "metadata": {
    "collapsed": true
   },
   "outputs": [],
   "source": [
    "# Convert to arrays for element-wise operation\n",
    "a = np.array(L)\n",
    "b = np.array(L_log2)"
   ]
  },
  {
   "cell_type": "code",
   "execution_count": 15,
   "metadata": {
    "collapsed": true
   },
   "outputs": [],
   "source": [
    "shannon_entropy = (-a*b).sum()"
   ]
  },
  {
   "cell_type": "code",
   "execution_count": 16,
   "metadata": {},
   "outputs": [
    {
     "data": {
      "text/plain": [
       "0.97095059445466858"
      ]
     },
     "execution_count": 16,
     "metadata": {},
     "output_type": "execute_result"
    }
   ],
   "source": [
    "shannon_entropy"
   ]
  },
  {
   "cell_type": "markdown",
   "metadata": {},
   "source": [
    "# Let's add a rule to the categorial question related to height = short and not-short. "
   ]
  },
  {
   "cell_type": "code",
   "execution_count": 17,
   "metadata": {
    "collapsed": true
   },
   "outputs": [],
   "source": [
    "# Assume we have 20 boys and girs. 12 boys (b) and 8 are girls(g)\n",
    "# Out of 12 boys 4 are tall, 6 are medium and 2 are short. \n",
    "# Of the 8 girls, 1 is tall, 2 are medium, and 5 are short.\n",
    "# Entropy of being short (s) and entropy for not being short (ns) can be calcualted as follow:\n",
    "\n",
    "data1 = ['s','s','ns','ns','ns','ns','ns']\n",
    "data2 = ['s','s','s','s','s','s','s','s','s','s','ns','ns','ns']\n"
   ]
  },
  {
   "cell_type": "code",
   "execution_count": 18,
   "metadata": {
    "collapsed": true
   },
   "outputs": [],
   "source": [
    "C1 = collections.Counter(data1)\n",
    "C2 = collections.Counter(data2)"
   ]
  },
  {
   "cell_type": "code",
   "execution_count": 19,
   "metadata": {
    "collapsed": true
   },
   "outputs": [],
   "source": [
    "count1 = np.array(C1.values())\n",
    "count2 = np.array(C2.values())"
   ]
  },
  {
   "cell_type": "code",
   "execution_count": 20,
   "metadata": {
    "collapsed": true
   },
   "outputs": [],
   "source": [
    "# Calcualte propbabilities as values of dictionary\n",
    "prob1 = {k: v / total for total in (sum(C1.values()),) for k, v in C1.items()}\n",
    "prob2 = {k: v / total for total in (sum(C2.values()),) for k, v in C2.items()}"
   ]
  },
  {
   "cell_type": "code",
   "execution_count": 21,
   "metadata": {
    "collapsed": true
   },
   "outputs": [],
   "source": [
    "# Convert dictionary probabilities values as list values\n",
    "L1 = list(map(float,prob1.values()))\n",
    "L2 = list(map(float,prob2.values()))"
   ]
  },
  {
   "cell_type": "code",
   "execution_count": 22,
   "metadata": {
    "collapsed": true
   },
   "outputs": [],
   "source": [
    "# Calculate log base 2 of probabilities\n",
    "from math import log\n",
    "L_log2_1 = [log(x,2) for x in L1]\n",
    "L_log2_2 = [log(x,2) for x in L2]"
   ]
  },
  {
   "cell_type": "code",
   "execution_count": 23,
   "metadata": {
    "collapsed": true
   },
   "outputs": [],
   "source": [
    "# Convert to arrays for element-wise operation\n",
    "a1 = np.array(L1)\n",
    "b1 = np.array(L_log2_1)\n",
    "\n",
    "a2 = np.array(L2)\n",
    "b2 = np.array(L_log2_2)"
   ]
  },
  {
   "cell_type": "code",
   "execution_count": 26,
   "metadata": {
    "collapsed": true
   },
   "outputs": [],
   "source": [
    "shannon_entropy1 = (-a1*b1).sum()\n",
    "shannon_entropy2 = (-a2*b2).sum()"
   ]
  },
  {
   "cell_type": "code",
   "execution_count": 44,
   "metadata": {},
   "outputs": [
    {
     "name": "stdout",
     "output_type": "stream",
     "text": [
      "shannon_entropy for being short: 0.863\n",
      "shannon_entropy for NOT being short: 0.779\n"
     ]
    }
   ],
   "source": [
    "print(\"shannon_entropy for being short: \" +\"%.3f\" %  shannon_entropy1)\n",
    "print(\"shannon_entropy for NOT being short: \" +\"%.3f\" %  shannon_entropy2)"
   ]
  },
  {
   "cell_type": "code",
   "execution_count": null,
   "metadata": {
    "collapsed": true
   },
   "outputs": [],
   "source": []
  }
 ],
 "metadata": {
  "kernelspec": {
   "display_name": "Python 3",
   "language": "python",
   "name": "python3"
  },
  "language_info": {
   "codemirror_mode": {
    "name": "ipython",
    "version": 3
   },
   "file_extension": ".py",
   "mimetype": "text/x-python",
   "name": "python",
   "nbconvert_exporter": "python",
   "pygments_lexer": "ipython3",
   "version": "3.6.3"
  }
 },
 "nbformat": 4,
 "nbformat_minor": 2
}
